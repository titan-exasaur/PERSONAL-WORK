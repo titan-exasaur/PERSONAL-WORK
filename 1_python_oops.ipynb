{
 "cells": [
  {
   "cell_type": "code",
   "execution_count": 3,
   "metadata": {},
   "outputs": [
    {
     "name": "stdout",
     "output_type": "stream",
     "text": [
      "78.5\n",
      "31.400000000000002\n"
     ]
    }
   ],
   "source": [
    "# 1. Write a Python program to create a class representing a Circle. \n",
    "# Include methods to calculate its area and perimeter.\n",
    "\n",
    "class Circle:\n",
    "    def __init__(self, radius):\n",
    "        self.radius = radius\n",
    "\n",
    "    def area(self):\n",
    "        return 3.14 * (self.radius ** 2)\n",
    "    \n",
    "    def perimeter(self):\n",
    "        return 2*3.14*self.radius\n",
    "    \n",
    "test_case_1 = Circle(5)\n",
    "\n",
    "print(test_case_1.area())\n",
    "print(test_case_1.perimeter())"
   ]
  },
  {
   "cell_type": "code",
   "execution_count": 15,
   "metadata": {},
   "outputs": [
    {
     "data": {
      "text/plain": [
       "23"
      ]
     },
     "execution_count": 15,
     "metadata": {},
     "output_type": "execute_result"
    }
   ],
   "source": [
    "# 2. Write a Python program to create a person class. \n",
    "# Include attributes like name, country and date of birth.\n",
    "# Implement a method to determine the person's age.\n",
    "\n",
    "from datetime import datetime\n",
    "\n",
    "class Person:\n",
    "    def __init__(self, \n",
    "                 name:str, \n",
    "                 country:str, \n",
    "                 yob:int, \n",
    "                 mob:int, \n",
    "                 dob:int):\n",
    "        self.name = name\n",
    "        self.country = country\n",
    "        self.yob = yob\n",
    "        self.mob = mob\n",
    "        self.dob = dob\n",
    "    \n",
    "    def age(self):\n",
    "        date_of_birth = datetime(self.yob, self.mob, self.dob)\n",
    "        current_date = datetime.now()\n",
    "        age = current_date.year - date_of_birth.year - ((current_date.month, current_date.day) < (date_of_birth.month, date_of_birth.day))\n",
    "        \n",
    "        return age\n",
    "    \n",
    "test_case_2 = Person(\"kumar\", \"India\", 2001, 5, 29)\n",
    "test_case_2.age()"
   ]
  },
  {
   "cell_type": "code",
   "execution_count": 24,
   "metadata": {},
   "outputs": [
    {
     "name": "stdout",
     "output_type": "stream",
     "text": [
      "44 + -8 = 36\n",
      "44 - -8 = 52\n",
      "44 x -8 = -352\n",
      "44 // -8 = -5.5\n"
     ]
    }
   ],
   "source": [
    "# 3. Write a Python program to create a calculator class. \n",
    "# Include methods for basic arithmetic operations.\n",
    "\n",
    "class Calculator:\n",
    "    def __init__(self, num_1, num_2):\n",
    "        self.num1 = num_1\n",
    "        self.num2 = num_2\n",
    "    \n",
    "    def add(self):\n",
    "        sum = self.num1 + self.num2\n",
    "        print(f\"{self.num1} + {self.num2} = {sum}\")\n",
    "    \n",
    "    def subtract(self):\n",
    "        difference = self.num1 - self.num2\n",
    "        print(f\"{self.num1} - {self.num2} = {difference}\")\n",
    "    \n",
    "    def multiplication(self):\n",
    "        product = self.num1 * self.num2\n",
    "        print(f\"{self.num1} x {self.num2} = {product}\")\n",
    "    \n",
    "    def division(self):\n",
    "        div = self.num1 / self.num2\n",
    "        print(f\"{self.num1} // {self.num2} = {div}\")\n",
    "\n",
    "test_case_3 = Calculator(44,-8)\n",
    "test_case_3.add()\n",
    "test_case_3.subtract()\n",
    "test_case_3.multiplication()\n",
    "test_case_3.division()"
   ]
  },
  {
   "cell_type": "code",
   "execution_count": null,
   "metadata": {},
   "outputs": [],
   "source": []
  }
 ],
 "metadata": {
  "kernelspec": {
   "display_name": "main",
   "language": "python",
   "name": "python3"
  },
  "language_info": {
   "codemirror_mode": {
    "name": "ipython",
    "version": 3
   },
   "file_extension": ".py",
   "mimetype": "text/x-python",
   "name": "python",
   "nbconvert_exporter": "python",
   "pygments_lexer": "ipython3",
   "version": "3.8.19"
  }
 },
 "nbformat": 4,
 "nbformat_minor": 2
}
