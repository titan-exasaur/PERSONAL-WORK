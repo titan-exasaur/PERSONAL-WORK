{
 "cells": [
  {
   "cell_type": "code",
   "execution_count": 15,
   "metadata": {
    "vscode": {
     "languageId": "r"
    }
   },
   "outputs": [
    {
     "name": "stdout",
     "output_type": "stream",
     "text": [
      "Area of circle with radius 5 is 78.5 \n",
      "Perimeter of circle with radius 5 is 31.41593 \n"
     ]
    }
   ],
   "source": [
    "# 1. Write a Python program to create a class representing a Circle. \n",
    "# Include methods to calculate its area and perimeter.\n",
    "\n",
    "library(R6)\n",
    "\n",
    "Circle <- R6Class(\n",
    "    classname = \"Circle\",\n",
    "    public = list(\n",
    "        radius = NULL,\n",
    "\n",
    "        initialize = function(radius){\n",
    "            self$radius = radius\n",
    "        },\n",
    "\n",
    "        area = function(){\n",
    "            return (3.14 * self$radius ^ 2)\n",
    "        },\n",
    "\n",
    "        perimeter = function(){\n",
    "            return (2 * pi * self$radius)\n",
    "        }\n",
    "    )\n",
    ")\n",
    "\n",
    "test_case_1 = Circle$new(5)\n",
    "cat(\"Area of circle with radius\", test_case_1$radius, \"is\", test_case_1$area(), \"\\n\")\n",
    "cat(\"Perimeter of circle with radius\", test_case_1$radius, \"is\", test_case_1$perimeter(), \"\\n\")\n"
   ]
  },
  {
   "cell_type": "code",
   "execution_count": 27,
   "metadata": {
    "vscode": {
     "languageId": "r"
    }
   },
   "outputs": [
    {
     "name": "stdout",
     "output_type": "stream",
     "text": [
      "Age of Kumar is 21 years.\n"
     ]
    }
   ],
   "source": [
    "# 2. Write a Python program to create a person class. \n",
    "# Include attributes like name, country and date of birth.\n",
    "# Implement a method to determine the person's age.\n",
    "\n",
    "library(R6)\n",
    "\n",
    "Person <- R6Class(\n",
    "    classname = \"Person\",\n",
    "    public = list(\n",
    "        name = NULL,\n",
    "        country = NULL,\n",
    "        yob = NULL,\n",
    "\n",
    "        initialize = function(name, country, yob){\n",
    "            self$name <- name\n",
    "            self$country <- country\n",
    "            self$yob <- yob\n",
    "        },\n",
    "\n",
    "        age = function(){\n",
    "            current_year <- as.numeric(format(Sys.time(), \"%Y\"))\n",
    "            return (current_year - self$yob)\n",
    "        }\n",
    "    )\n",
    ")\n",
    "# Test case\n",
    "test_case_2 <- Person$new(\"Kumar\", \"Bangalore\", 2003)\n",
    "cat(\"Age of\", test_case_2$name, \"is\", test_case_2$age(), \"years.\\n\")"
   ]
  },
  {
   "cell_type": "code",
   "execution_count": 32,
   "metadata": {
    "vscode": {
     "languageId": "r"
    }
   },
   "outputs": [
    {
     "name": "stdout",
     "output_type": "stream",
     "text": [
      "44 + -8 =  36 \n",
      "44 - -8 =  52 \n",
      "44 x -8 =  -352 \n",
      "44 // -8 =  -5.5 \n"
     ]
    }
   ],
   "source": [
    "# 3. Write a Python program to create a calculator class. \n",
    "# Include methods for basic arithmetic operations.\n",
    "\n",
    "library(R6)\n",
    "\n",
    "Calculator <- R6Class(\n",
    "    classname = \"Calculator\",\n",
    "    public = list(\n",
    "        num1 = NULL,\n",
    "        num2 = NULL,\n",
    "\n",
    "        initialize = function(num1, num2) {\n",
    "            self$num1 = num1\n",
    "            self$num2 = num2\n",
    "        },\n",
    "\n",
    "        add = function(){\n",
    "            return (self$num1 + self$num2)\n",
    "        },\n",
    "\n",
    "        subtract = function(){\n",
    "            return (self$num1 - self$num2)\n",
    "        },\n",
    "\n",
    "        multiply = function(){\n",
    "            return (self$num1 * self$num2)\n",
    "        },\n",
    "\n",
    "        divide = function(){\n",
    "            return (self$num1 / self$num2)\n",
    "        }\n",
    "    ))\n",
    "\n",
    "test_case_3 = Calculator$new(44, -8)\n",
    "cat(\"44 + -8 = \", test_case_3$add(), \"\\n\")\n",
    "cat(\"44 - -8 = \", test_case_3$subtract(), \"\\n\")\n",
    "cat(\"44 x -8 = \", test_case_3$multiply(), \"\\n\")\n",
    "cat(\"44 // -8 = \", test_case_3$divide(), \"\\n\")"
   ]
  },
  {
   "cell_type": "code",
   "execution_count": null,
   "metadata": {
    "vscode": {
     "languageId": "r"
    }
   },
   "outputs": [],
   "source": []
  }
 ],
 "metadata": {
  "kernelspec": {
   "display_name": "R",
   "language": "R",
   "name": "ir"
  },
  "language_info": {
   "codemirror_mode": "r",
   "file_extension": ".r",
   "mimetype": "text/x-r-source",
   "name": "R",
   "pygments_lexer": "r",
   "version": "4.3.1"
  }
 },
 "nbformat": 4,
 "nbformat_minor": 2
}
